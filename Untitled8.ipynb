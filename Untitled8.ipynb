{
  "nbformat": 4,
  "nbformat_minor": 0,
  "metadata": {
    "colab": {
      "provenance": [],
      "authorship_tag": "ABX9TyMSYqRmW9uVZGCL1azrcRCz",
      "include_colab_link": true
    },
    "kernelspec": {
      "name": "python3",
      "display_name": "Python 3"
    },
    "language_info": {
      "name": "python"
    }
  },
  "cells": [
    {
      "cell_type": "markdown",
      "metadata": {
        "id": "view-in-github",
        "colab_type": "text"
      },
      "source": [
        "<a href=\"https://colab.research.google.com/github/Jacobzy2137/Logistic_regression/blob/main/Untitled8.ipynb\" target=\"_parent\"><img src=\"https://colab.research.google.com/assets/colab-badge.svg\" alt=\"Open In Colab\"/></a>"
      ]
    },
    {
      "cell_type": "code",
      "execution_count": 1,
      "metadata": {
        "id": "1d7nuUuifNsF"
      },
      "outputs": [],
      "source": [
        "import numpy as np"
      ]
    },
    {
      "cell_type": "code",
      "source": [
        "class LogisticRegression():\n",
        "\n",
        "# learning rate and number of iterations #\n",
        "  def __init__(self, learning_rate, iterations):\n",
        "    self.learning_rate = learning_rate\n",
        "    self.iterations = iterations\n",
        "    \n",
        "# training model with a dataset #  \n",
        "  def fit(self, X, Y):\n",
        "    \n",
        "      # number of rows and columns in a dataset (data points and features) #\n",
        "      self.rows, self.cols = X.shape\n",
        "\n",
        "      # initializing weights and biases\n",
        "      self.weights = np.zeros(self.cols)\n",
        "      self.biases = 0\n",
        "      self.X = X\n",
        "      self.Y = Y\n",
        "\n",
        "      # gradient descent #\n",
        "\n",
        "      for i in range(iterations):\n",
        "        self.update_weights\n",
        "\n",
        "\n",
        "  def update_weights(self):\n",
        "\n",
        "    # Y_hat formula is a sigmoid function\n",
        "    Y_hat = 1 / (1 + np.exp( (self.X.dot(self.weights) + self.biases)))\n",
        "\n",
        "    #gradients\n",
        "    dw = (1 / self.rows) * np.dot(self.X.T, (Y_hat - self.Y))\n",
        "    db = (1 / self.rows) * np.sum(Y_hat - self.Y)\n",
        "\n",
        "    #gradient descend equation\n",
        "    self.weights = self.weights - (self.learning_rate * dw)\n",
        "    self.biases = self.biases - (self.learning_rate * db)\n",
        "\n",
        "\n",
        "  def predict(self):\n",
        "    \n",
        "    prediction = 1 / (1 + np.exp( (self.X.dot(self.weights) + self.biases)))\n",
        "    prediction = np.where(prediction > 0.5, 1, 0)\n",
        "    return prediction"
      ],
      "metadata": {
        "id": "5Dh3HIVH6xia"
      },
      "execution_count": null,
      "outputs": []
    },
    {
      "cell_type": "code",
      "source": [
        "model = LogisticRegression(learning_rate = 0.05, iterations = 1000)\n",
        "#test with smoke detection database"
      ],
      "metadata": {
        "id": "jch78Zkh-Im4"
      },
      "execution_count": null,
      "outputs": []
    }
  ]
}